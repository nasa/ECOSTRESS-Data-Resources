{
 "cells": [
  {
   "cell_type": "markdown",
   "metadata": {
    "tags": []
   },
   "source": [
    "# Working with ECOSTRESS L2T LSTE Data  \n",
    "\n",
    "**Summary** \n",
    "\n",
    "This notebook will show how to access [ECOsystem Spaceborne Thermal Radiometer Experiment on Space Station (ECOSTRESS)](https://ecostress.jpl.nasa.gov/) data programmatically using the [`earthaccess`](https://github.com/nsidc/earthaccess) python library to authenticate, search, download, and stream (directly access) data. It shows how to work with ECOSTRESS Tiled Land Surface Temperature and Emissivity ([`ECOSTRESS_L2T_LSTE`](https://doi.org/10.5067/ECOSTRESS/ECO_L2T_LSTE.002)) product hosted in the Earthdata Cloud and managed by the Land Processes Distributed Active Archive Center ([LP DAAC](https://lpdaac.usgs.gov/)). \n",
    "\n",
    "**Background**  \n",
    "\n",
    "The [ECOSTRESS mission](https://ecostress.jpl.nasa.gov/) is answering these questions by accurately measuring the temperature of plants. Plants regulate their temperature by releasing water through tiny pores on their leaves called stomata. If they have sufficient water they can maintain their temperature, but if there is insufficient water, their temperatures rise and this temperature rise can be measured with ECOSTRESS. The images acquired by ECOSTRESS are the most detailed temperature images of the surface ever acquired from space and can be used to measure the temperature of an individual farm field. These temperature images, along with auxiliary inputs, are used to produce one of the primary science outputs of ECOSTRESS: evapotranspiration, an indicator of plant health via the measure of evaporation and transpiration of water through a plant.\n",
    "\n",
    "More details about ECOSTRESS and its associated products can be found on the [ECOSTRESS website](https://ecostress.jpl.nasa.gov/) and [ECOSTRESS product pages](https://lpdaac.usgs.gov/product_search/?collections=ECOSTRESS&status=Operational&view=cards&sort=title) hosted by the Land Processes Distributed Active Archive Center (LP DAAC).\n",
    "\n",
    "**Learning Objectives**  \n",
    "\n",
    "- How to search ECOSTRESS data using `earthaccess`\n",
    "- How to stream or download ECOSTRESS data\n",
    "- How to clip ECOSTRESS data to a Region of Interest (ROI)\n",
    "- How to quality filter ECOSTRESS data\n",
    "- How to export the processed ECOSTRESS data\n",
    "\n",
    "**Requirements**  \n",
    "\n",
    "- NASA [Earthdata Login](https://urs.earthdata.nasa.gov/) account. If you do not have an Earthdata Account, you can create one [here](https://urs.earthdata.nasa.gov/users/new). \n",
    "- A compatible Python Environment - See **setup_instructions.md** in the `/setup/` folder \n",
    "\n",
    "**Tutorial Outline**\n",
    "\n",
    "1. Setup\n",
    "2. Searching for ECOSTRESS L2T LSTE Data\n",
    "3. Accessing ECOSTRESS L2T LSTE Data\n",
    "4. Clipping ECOSTRESS L2T LSTE Data to a Region of Interest (ROI)\n",
    "5. Quality Filtering ECOSTRESS L2T LSTE Data\n",
    "6. Exporting Processed ECOSTRESS L2T LSTE Data"
   ]
  },
  {
   "cell_type": "markdown",
   "metadata": {},
   "source": [
    "## 1. Setup \n",
    "\n",
    "Import the required libraries."
   ]
  },
  {
   "cell_type": "code",
   "execution_count": null,
   "metadata": {
    "tags": []
   },
   "outputs": [],
   "source": [
    "# Import Packages\n",
    "import warnings\n",
    "# Some cells may generate warnings that we can ignore. Comment below lines to see.\n",
    "warnings.filterwarnings('ignore')\n",
    "\n",
    "import os, sys, shutil\n",
    "import earthaccess\n",
    "import numpy as np\n",
    "from osgeo import gdal\n",
    "import rasterio as rio\n",
    "import rioxarray as rxr\n",
    "import xarray as xr\n",
    "import hvplot.xarray\n",
    "import hvplot.pandas\n",
    "import geopandas as gp\n",
    "from zipfile import ZipFile "
   ]
  },
  {
   "cell_type": "markdown",
   "metadata": {},
   "source": [
    "### Authentication\n",
    "\n",
    "Log into Earthdata using the `Auth` and `login` functions from the `earthaccess` library. The `persist=True` argument will create a local `.netrc` file if it doesn't exist, or add your login info to an existing `.netrc` file. If no Earthdata Login credentials are found in the `.netrc` you'll be prompted for them.\n"
   ]
  },
  {
   "cell_type": "code",
   "execution_count": null,
   "metadata": {},
   "outputs": [],
   "source": [
    "auth = earthaccess.login(persist = True)\n",
    "# are we authenticated?\n",
    "print(auth.authenticated)"
   ]
  },
  {
   "cell_type": "markdown",
   "metadata": {},
   "source": [
    "## 2. Searching for ECOSTRESS L2T LSTE Data\n",
    "\n",
    "In this example, we will use the cloud-hosted `ECOSTRESS_L2T_LSTE` product but the searching process can be used with other EMIT or ECOSTRESS products, other collections, or different data providers, as well as across multiple catalogs with some modification.  The Land Surface Temperature and Emissivity values from ECOSTRESS Level 2 Tiled Land Surface Temperature (ECO_L2T_LSTE) are derived from five thermal infrared (TIR) bands using a physics-based Temperature and Emissivity Separation (TES) algorithm. This tiled data product uses a modified version of the Military Grid Reference System (MGRS) which divides Universal Transverse Mercator (UTM) zones into square tiles that are 109.8 km by 109.8 km with a 70 meter (m) spatial resolution. \n",
    "\n",
    "### Define Your Query Parameters\n",
    "\n",
    "We can search for granules using attributes such as collection short name, collection ID, acquisition time, and spatial footprint.\n",
    "\n",
    "##### Spatial region of interest (ROI)\n",
    "\n",
    "For this example, our spatial region of interest (ROI) will be Boulder city boundary. when we are working with multi-feature ROI, we can use a bounding box with larger spatial extent including all the features. To do this, we will first open a geojson file containing our region of interest (ROI) then simplify it to a bounding box by getting the bounds and putting them into a tuple. We will use the `total_bounds` property to get the bounding box of our ROI, and add that to a python tuple, which is the expected data type for the bounding_box parameter `earthaccess` `search_data`.\n",
    "\n",
    "\n",
    "**Note:** If our features are spread out spatially in the ROI, we can search for data available for each feature separately to avoid accessing a large volume of data we do not need."
   ]
  },
  {
   "cell_type": "markdown",
   "metadata": {},
   "source": [
    "Our ROI is stored as a .zip file. First we need to extract all the members of the zip into a specific location. "
   ]
  },
  {
   "cell_type": "code",
   "execution_count": null,
   "metadata": {},
   "outputs": [],
   "source": [
    "with ZipFile('../../data/City_of_Boulder_City_Limits.zip', 'r') as zObject: \n",
    "    zObject.extractall( path=\"../../data\")"
   ]
  },
  {
   "cell_type": "markdown",
   "metadata": {},
   "source": [
    "Below, the polygon is opened using `geopandas` library and Coordinate Reference System (crs) is printed. Our polygon is in geographic coordinate reference system (`EPSG:3857`)."
   ]
  },
  {
   "cell_type": "code",
   "execution_count": null,
   "metadata": {},
   "outputs": [],
   "source": [
    "polygon = gp.read_file('../../data/City_of_Boulder_City_Limits.shp')\n",
    "polygon.crs"
   ]
  },
  {
   "cell_type": "markdown",
   "metadata": {},
   "source": [
    "Since this data is in **EPSG:3857**, we need to reproject to **EPSG:4326** to get latitude and longitude values for our search. We can use the `to_crs` method from `geopandas` to reproject our polygon."
   ]
  },
  {
   "cell_type": "code",
   "execution_count": null,
   "metadata": {},
   "outputs": [],
   "source": [
    "polygon_4326 = polygon.to_crs(\"EPSG:4326\")"
   ]
  },
  {
   "cell_type": "code",
   "execution_count": null,
   "metadata": {},
   "outputs": [],
   "source": [
    "polygon_4326.hvplot(tiles='ESRI', color='#d95f02',alpha=0.6, crs='EPSG:4326', frame_height=405, frame_width=720, fontscale=2) "
   ]
  },
  {
   "cell_type": "code",
   "execution_count": null,
   "metadata": {},
   "outputs": [],
   "source": [
    "bbox = tuple(list(polygon_4326.total_bounds))\n",
    "bbox"
   ]
  },
  {
   "cell_type": "markdown",
   "metadata": {},
   "source": [
    "Below, the  parameters including `provider`, `short_name`, `version`, `bounding_box`, `temporal`, and `count` are used for our query.  "
   ]
  },
  {
   "cell_type": "code",
   "execution_count": null,
   "metadata": {},
   "outputs": [],
   "source": [
    "results = earthaccess.search_data(\n",
    "    provider='LPCLOUD',\n",
    "    short_name='ECO_L2T_LSTE',\n",
    "    version='002',\n",
    "    bounding_box=bbox,\n",
    "    temporal=('2023-07-01','2023-08-01'),\n",
    "    count=100\n",
    ")"
   ]
  },
  {
   "cell_type": "markdown",
   "metadata": {},
   "source": [
    "Next, get the downloadable links for LSTE and quality layers using `data_links()` method from `earthaccess`. "
   ]
  },
  {
   "cell_type": "code",
   "execution_count": null,
   "metadata": {},
   "outputs": [],
   "source": [
    "lst_links = [l for dl in results for l in dl.data_links() if 'LST.tif' in l]\n",
    "lst_links"
   ]
  },
  {
   "cell_type": "code",
   "execution_count": null,
   "metadata": {},
   "outputs": [],
   "source": [
    "qc_links = [l for dl in results for l in dl.data_links() if 'QC.tif' in l]\n",
    "qc_links"
   ]
  },
  {
   "cell_type": "markdown",
   "metadata": {},
   "source": [
    "Let's take a look at the ECOSTRESS tiled data file name:  \n",
    "\n",
    "        Filename: **ECOv002_L2T_LSTE_28527_009_13TDE_20230718T081442_0710_01_LST.tif**   \n",
    "\n",
    "        ECO : Sensor  \n",
    "        v002 : Product Version  \n",
    "        L2T : Processing Level and Type (T = Tile)  \n",
    "        LSTE : Geophysical Parameter  \n",
    "        28527 : Orbit Number  \n",
    "        009 : Scene ID  \n",
    "        13TDE : Military Grid Reference System (MGRS) Tile ID  \n",
    "        20230718 : Date of Acquisition (YYYYMMDD)  \n",
    "        T081442 : Time of Acquisition (HHMMSS) (in UTC)  \n",
    "        0710 : Build ID of software that generated product, Major+Minor (2+2 digits)  \n",
    "        01 : Product Iteration Number  \n",
    "        LST : Layer/band Name (each layer is a separate file)  \n",
    "        .tif : Data Format for Tile  \n",
    "\n",
    "\n",
    "Looking at Military Grid Reference System (MGRS) Tile ID of the outputs, they all are all in UTM Zone 13. "
   ]
  },
  {
   "cell_type": "markdown",
   "metadata": {},
   "source": [
    "## 3. Accessing ECOSTRESS L2T Land Surface Temperature and Emissivity Data\n",
    "\n",
    "ECOSTRESS data is stored in NASA's Earthdata Cloud and can be accessed in different ways.\n",
    "\n",
    "- *Downloaded* - This has been available since the existance of the NASA DAAC. Users can use the data link(s) to download the data files to their local working environment. This can be done whether the user is working from a non-cloud or cloud environment.\n",
    "- *Streamed* - Streaming is on-the-fly random reading of remote files, i.e. files not saved locally. The data accessed, however, must be able to be held in the workspaces' memory. This can be done whether the user is working from a non-cloud or cloud environment.\n",
    "- *Accessed in-place (i.e., direct s3 access)* - This is only available for working environment deployed in AWS us-west-2.\n",
    "\n",
    "In this example, we will show how to stream the data. For that, the gdal configuration is set and the one of our LSTE files is read into the workspace using `open_rasterio` from the `rioxarray` library. Since the file consists of only 1 layer, we can `squeeze` it, removing the `band` dimension."
   ]
  },
  {
   "cell_type": "code",
   "execution_count": null,
   "metadata": {},
   "outputs": [],
   "source": [
    "rio_env = rio.Env(GDAL_DISABLE_READDIR_ON_OPEN='EMPTY_DIR',\n",
    "                  GDAL_HTTP_COOKIEFILE=os.path.expanduser('~/cookies.txt'),\n",
    "                  GDAL_HTTP_COOKIEJAR=os.path.expanduser('~/cookies.txt'),\n",
    "                  GDAL_HTTP_MAX_RETRY=10,\n",
    "                  GDAL_HTTP_RETRY_DELAY=0.5)\n",
    "rio_env.__enter__()"
   ]
  },
  {
   "cell_type": "code",
   "execution_count": null,
   "metadata": {
    "tags": []
   },
   "outputs": [],
   "source": [
    "eco_lst_ds = rxr.open_rasterio(lst_links[14]).squeeze('band', drop=True)\n",
    "eco_lst_ds"
   ]
  },
  {
   "cell_type": "markdown",
   "metadata": {},
   "source": [
    "As mentioned, the ECOSTRESS product we are using here is tiled and the CRS is dependent on UTM zone. For this tile, we can look at the `spatial_ref` variable through the interactive object above to see details such as the well-known-text (WKT) representation of the CRS and other attributes. \n",
    "We are using `hvplot` for visualization here. For detailed information on available open-source Python tools and libraries for data visualization see <https://pyviz.org/>.\n",
    "\n",
    "Now let's plot the data using `hvplot`. `reproject` function is applied only for the visualization. Make sure to specify the CRS argument within the `hvplot.image` function so the ESRI imagery RBG background tile aligns with our scene.  \n",
    "\n"
   ]
  },
  {
   "cell_type": "code",
   "execution_count": null,
   "metadata": {},
   "outputs": [],
   "source": [
    "size_opts = dict(frame_height=405, frame_width=720, fontscale=2)\n",
    "\n",
    "eco_lst_ds.rio.reproject('EPSG:4326').hvplot.image(x='x', y='y', **size_opts, \n",
    "                                                   cmap='inferno', tiles='ESRI', xlabel='Longitude', \n",
    "                                                   ylabel='Latitude', title='ECOSTRESS LST (K)', \n",
    "                                                   crs='EPSG:4326')*polygon_4326.hvplot(color='Green',alpha=0.5, \n",
    "                                                                                   crs='EPSG:4326', rasterize=True)"
   ]
  },
  {
   "cell_type": "markdown",
   "metadata": {},
   "source": [
    "## 4. Cropping ECOSTRESS Data  \n",
    "\n",
    "`clip` function from `rasterio` is used to mask data outside of our region of interest. Before clipping, we need to reproject our ROI to the projection of our dataset which is UTM zone 13N. "
   ]
  },
  {
   "cell_type": "code",
   "execution_count": null,
   "metadata": {},
   "outputs": [],
   "source": [
    "polygon"
   ]
  },
  {
   "cell_type": "code",
   "execution_count": null,
   "metadata": {},
   "outputs": [],
   "source": [
    "eco_lst_ds.rio.crs"
   ]
  },
  {
   "cell_type": "code",
   "execution_count": null,
   "metadata": {},
   "outputs": [],
   "source": [
    "polygon_reproj = polygon.to_crs(eco_lst_ds.rio.crs)"
   ]
  },
  {
   "cell_type": "code",
   "execution_count": null,
   "metadata": {},
   "outputs": [],
   "source": [
    "polygon_reproj.crs"
   ]
  },
  {
   "cell_type": "code",
   "execution_count": null,
   "metadata": {
    "tags": []
   },
   "outputs": [],
   "source": [
    "eco_lst_roi = eco_lst_ds.rio.clip(polygon_reproj.geometry.values, polygon_reproj.crs, all_touched=True)"
   ]
  },
  {
   "cell_type": "code",
   "execution_count": null,
   "metadata": {
    "tags": []
   },
   "outputs": [],
   "source": [
    "eco_lst_roi.hvplot.image(\n",
    "    geo=True,cmap='inferno',**size_opts, tiles='ESRI',alpha=0.8, \n",
    "    title='Cropped ECOSTRESS LST (K)', xlabel='Longitude',ylabel='Latitude', \n",
    "    crs='EPSG:32613', rasterize=True)"
   ]
  },
  {
   "cell_type": "markdown",
   "metadata": {},
   "source": [
    "Next, we will repeate the same process for the associated quality layer."
   ]
  },
  {
   "cell_type": "code",
   "execution_count": null,
   "metadata": {},
   "outputs": [],
   "source": [
    "eco_qc_ds = rxr.open_rasterio(qc_links[14]).squeeze('band', drop=True)\n",
    "\n",
    "eco_qc_roi = eco_qc_ds.rio.clip(polygon_reproj.geometry.values, polygon_reproj.crs, all_touched=True) # assign a different value to fill value \n",
    "\n",
    "eco_qc_roi.hvplot.image(\n",
    "    geo=True, cmap='inferno',**size_opts, tiles='ESRI',alpha=0.8, \n",
    "    title='Cropped ECOSTRESS LST (K)', xlabel='Longitude',ylabel='Latitude', \n",
    "    crs='EPSG:32613', rasterize=True)"
   ]
  },
  {
   "cell_type": "markdown",
   "metadata": {},
   "source": [
    "## 5. Quality Filtering\n",
    "\n",
    "The quality values are 16 digits bit values with bits 0 and 1 being the mandatory QA flag that will be interpreted as:\n",
    "\n",
    "        00 = Pixel produced, best quality\n",
    "        01 = Pixel produced, nominal quality. Either one or more of the following conditions are met:  \n",
    "\n",
    "                1. emissivity in both bands 4 and 5 < 0.95, i.e. possible cloud contamination  \n",
    "                2. low transmissivity due to high water vapor loading (<0.4), check PWV values and error estimates  \n",
    "                3. Pixel falls on missing scan line in bands 1&5, and filled using spatial neural net. Check error estimates  \n",
    "                Recommend more detailed analysis of other QC information  \n",
    "        10 = Pixel produced, but cloud detected  \n",
    "        11 = Pixel not produced due to missing/bad data, user should check Data quality flag bits  \n",
    "\n",
    "The detailed quality information is provided in  Table 3-5 in ECOSTRESS [Product Specification Document](https://lpdaac.usgs.gov/documents/380/ECO2_PSD_V1.pdf). \n"
   ]
  },
  {
   "cell_type": "markdown",
   "metadata": {},
   "source": [
    "Below, the unique quality values are extracted from the clipped data, and only the values showing good quality are kept. "
   ]
  },
  {
   "cell_type": "code",
   "execution_count": null,
   "metadata": {},
   "outputs": [],
   "source": [
    "quality_vals = np.unique(eco_qc_roi.values).tolist()\n",
    "good_q = [q for q in quality_vals if np.binary_repr(q, width=16)[-2:] == '00']\n",
    "good_q\n"
   ]
  },
  {
   "cell_type": "markdown",
   "metadata": {},
   "source": [
    "`.where` method is used to filter the quality and keep only the LSTE values generated with the best quality.  "
   ]
  },
  {
   "cell_type": "code",
   "execution_count": null,
   "metadata": {},
   "outputs": [],
   "source": [
    "eco_lst_roi_mask = eco_lst_roi.where(eco_qc_roi.isin(good_q))\n",
    "eco_lst_roi_mask"
   ]
  },
  {
   "cell_type": "code",
   "execution_count": null,
   "metadata": {},
   "outputs": [],
   "source": [
    "eco_lst_roi_mask.hvplot.image(\n",
    "    geo=True,cmap='inferno',**size_opts, tiles='ESRI',alpha=0.9, \n",
    "    title='Quality Masked ECOSTRESS LST (K)', xlabel='Longitude',ylabel='Latitude', \n",
    "    crs='EPSG:32613', rasterize=True)"
   ]
  },
  {
   "cell_type": "markdown",
   "metadata": {},
   "source": [
    "## 6. Writing Outputs \n",
    "\n",
    "We now have a ECOSTRESS scene that is clipped to our ROI with only good quality values. Finally, we can save this file locally. "
   ]
  },
  {
   "cell_type": "code",
   "execution_count": null,
   "metadata": {},
   "outputs": [],
   "source": [
    "out_name = f\"../../data/{lst_links[14].split('/')[-1].split('.tif')[0]}_clipped.tif\"\n",
    "\n",
    "eco_lst_roi_mask.rio.to_raster(raster_path=out_name, driver='COG')"
   ]
  },
  {
   "cell_type": "markdown",
   "metadata": {},
   "source": [
    "## Contact Info:  \n",
    "\n",
    "Email: LPDAAC@usgs.gov  \n",
    "Voice: +1-866-573-3222  \n",
    "Organization: Land Processes Distributed Active Archive Center (LP DAAC)¹  \n",
    "Website: <https://www.earthdata.nasa.gov/centers/lp-daac>   \n",
    "\n",
    "¹Work performed under USGS contract G15PD00467 for NASA contract NNG14HH33I. "
   ]
  }
 ],
 "metadata": {
  "kernelspec": {
   "display_name": "Python 3 (ipykernel)",
   "language": "python",
   "name": "python3"
  },
  "language_info": {
   "codemirror_mode": {
    "name": "ipython",
    "version": 3
   },
   "file_extension": ".py",
   "mimetype": "text/x-python",
   "name": "python",
   "nbconvert_exporter": "python",
   "pygments_lexer": "ipython3",
   "version": "3.11.13"
  }
 },
 "nbformat": 4,
 "nbformat_minor": 4
}
